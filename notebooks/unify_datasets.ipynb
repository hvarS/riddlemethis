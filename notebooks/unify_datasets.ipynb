{
 "cells": [
  {
   "cell_type": "code",
   "execution_count": 87,
   "metadata": {},
   "outputs": [],
   "source": [
    "import json\n",
    "import csv\n",
    "import re\n",
    "import pandas as pd"
   ]
  },
  {
   "cell_type": "markdown",
   "metadata": {},
   "source": [
    "### BiRdQA Dataset\n"
   ]
  },
  {
   "cell_type": "code",
   "execution_count": 7,
   "metadata": {},
   "outputs": [],
   "source": [
    "birdqa_riddles = []\n",
    "birdqa_answers = []"
   ]
  },
  {
   "cell_type": "code",
   "execution_count": 10,
   "metadata": {},
   "outputs": [],
   "source": [
    "for file in ['BiRdQA/BiRdQA_en_train.csv','BiRdQA/BiRdQA_en_dev.csv','BiRdQA/BiRdQA_en_test.csv']:\n",
    "    with open(file, 'r') as csvfile:\n",
    "        csvreader = csv.reader(csvfile)\n",
    "        for i,row in enumerate(csvreader):\n",
    "            if i!= 0:\n",
    "                riddle = row[0]\n",
    "                ans = row[1+int(row[-1])]\n",
    "                birdqa_riddles.append(riddle)\n",
    "                birdqa_answers.append(ans)\n",
    "            "
   ]
  },
  {
   "cell_type": "code",
   "execution_count": 13,
   "metadata": {},
   "outputs": [
    {
     "name": "stdout",
     "output_type": "stream",
     "text": [
      "A riddle game is played below, Can you name this charming fellow?  Someone looks me in the eye.I know who, and I know why.I know them well, and they know me.A very special bond, have we. We share the same thoughts, and the same place.We agree always in every case.Linked to the very last degree.If I should die then so would he. I never see my friend once blink.Nor twice nor ever, I should think.Though I will see him sometimes wink.But I see him come to the very brink.Of when his eyes will finally blink. Everyone has a friend like mine.Some hate them, some think them fine.Some people love them more than air.Whilst others wish they were not there. Mine will not move without consent.Though I could not make him repent.I like him, though, for when I smile.He smiles back for all the while reflection\n"
     ]
    }
   ],
   "source": [
    "ti = 100\n",
    "print(birdqa_riddles[ti],birdqa_answers[ti])"
   ]
  },
  {
   "cell_type": "markdown",
   "metadata": {},
   "source": [
    "### RiddleSense Dataset"
   ]
  },
  {
   "cell_type": "code",
   "execution_count": 31,
   "metadata": {},
   "outputs": [],
   "source": [
    "rs_riddles = []\n",
    "rs_answers = []"
   ]
  },
  {
   "cell_type": "code",
   "execution_count": 32,
   "metadata": {},
   "outputs": [],
   "source": [
    "rs_datasets = ['riddlesense_dataset/rs_train.jsonl','riddlesense_dataset/rs_dev.jsonl']"
   ]
  },
  {
   "cell_type": "code",
   "execution_count": 33,
   "metadata": {},
   "outputs": [],
   "source": [
    "cmap = {'A':0,'B':1,'C':2,'D':3,'E':4}"
   ]
  },
  {
   "cell_type": "code",
   "execution_count": 34,
   "metadata": {},
   "outputs": [],
   "source": [
    "for rs in rs_datasets:\n",
    "    with open(rs,'r') as json_file:\n",
    "        jsonl = list(json_file)\n",
    "        for dic in jsonl:\n",
    "            result = json.loads(dic)\n",
    "            riddle = result['question']['stem']\n",
    "            ans = result['question']['choices'][cmap[result['answerKey']]]['text']\n",
    "            rs_riddles.append(riddle)\n",
    "            rs_answers.append(ans)"
   ]
  },
  {
   "cell_type": "code",
   "execution_count": 36,
   "metadata": {},
   "outputs": [
    {
     "name": "stdout",
     "output_type": "stream",
     "text": [
      "The more of these you take, the more appear behind you.  What am I? steps\n"
     ]
    }
   ],
   "source": [
    "ti = 112\n",
    "print(rs_riddles[ti],rs_answers[ti])"
   ]
  },
  {
   "cell_type": "markdown",
   "metadata": {},
   "source": [
    "### Reddit Dataset"
   ]
  },
  {
   "cell_type": "code",
   "execution_count": null,
   "metadata": {},
   "outputs": [],
   "source": [
    "posts = []"
   ]
  },
  {
   "cell_type": "code",
   "execution_count": 39,
   "metadata": {},
   "outputs": [],
   "source": [
    "import praw\n",
    "\n",
    "# Initialize the Reddit API client with your credentials\n",
    "reddit = praw.Reddit(\n",
    "    client_id='eZ7uCMY39ttOdEdXut4V1A',\n",
    "    client_secret='tHDzBb5NE7mfCf714AI-AcBM4FwTZA',\n",
    "    user_agent = 'mac:Path:1.0'\n",
    ")\n",
    "\n",
    "# Set the subreddit and flair filter\n",
    "subreddit = reddit.subreddit('riddles')\n",
    "flair_filter = 'Solved'\n",
    "\n",
    "# Fetch the top 500 posts with the specified flair\n",
    "top_posts = subreddit.top(limit=500)\n",
    "\n",
    "# Filter posts with the \"Solved\" flair\n",
    "solved_posts = [post for post in top_posts if post.link_flair_text == flair_filter]\n",
    "\n",
    "# Print the titles of the solved posts\n",
    "\n",
    "# You can also access other attributes of the posts, such as URLs, scores, and more\n"
   ]
  },
  {
   "cell_type": "code",
   "execution_count": 53,
   "metadata": {},
   "outputs": [],
   "source": [
    "reddit_riddles = []\n",
    "reddit_answers = []"
   ]
  },
  {
   "cell_type": "code",
   "execution_count": 54,
   "metadata": {},
   "outputs": [],
   "source": [
    "for post in solved_posts:\n",
    "    # print(\"Post Title:\", post.title)\n",
    "    # print(\"Post Text/URL:\", post.selftext)  # For text posts\n",
    "    # print(\"URL:\", post.url)  # For link posts\n",
    "    # print(\"Score:\", post.score)\n",
    "\n",
    "    riddle = post.title + \"||| \" + post.selftext\n",
    "\n",
    "    reddit_riddles.append(riddle)\n",
    "    # Get the top comment (if available)\n",
    "    top_comment = post.comments[0] if post.comments else None\n",
    "    ans = \"\"\n",
    "    if top_comment is not None:\n",
    "        if \">!\" in str(top_comment):\n",
    "            ans = str(top_comment).split('>!')[1].split('!<')[0]\n",
    "        else:\n",
    "            ans = str(top_comment)\n",
    "    \n",
    "    reddit_answers.append(ans)\n",
    "    # if top_comment:\n",
    "    #     print(\"Top Comment:\")\n",
    "    #     print(\"Author:\", top_comment.author)\n",
    "    #     print(\"Comment Text:\", top_comment.body)\n",
    "    #     print(\"Comment Score:\", top_comment.score)\n",
    "    # else:\n",
    "    #     print(\"No comments on this post\")\n",
    "\n",
    "    # print(\"\\n\")  # Add a separator between posts\n"
   ]
  },
  {
   "cell_type": "code",
   "execution_count": 55,
   "metadata": {},
   "outputs": [
    {
     "name": "stdout",
     "output_type": "stream",
     "text": [
      "A man is alone in his house washing dishes. When he looks down, there are more glasses in the sink than there were before. How?|||  f8vfrao\n"
     ]
    }
   ],
   "source": [
    "ti = 10\n",
    "print(reddit_riddles[ti],reddit_answers[ti])"
   ]
  },
  {
   "cell_type": "markdown",
   "metadata": {},
   "source": [
    "### Riddles.com Dataset"
   ]
  },
  {
   "cell_type": "code",
   "execution_count": 57,
   "metadata": {},
   "outputs": [
    {
     "name": "stderr",
     "output_type": "stream",
     "text": [
      "Since the GPL-licensed package `unidecode` is not installed, using Python's `unicodedata` package which yields worse results.\n"
     ]
    }
   ],
   "source": [
    "from bs4 import BeautifulSoup\n",
    "import requests\n",
    "import re\n",
    "from cleantext import clean"
   ]
  },
  {
   "cell_type": "code",
   "execution_count": 59,
   "metadata": {},
   "outputs": [],
   "source": [
    "whatami_riddles = []\n",
    "whatami_answers = []"
   ]
  },
  {
   "cell_type": "code",
   "execution_count": 60,
   "metadata": {},
   "outputs": [],
   "source": [
    "for i in range(1,31):\n",
    "  URL = \"https://www.riddles.com/what-am-i-riddles?page=\"+str(i)\n",
    "  page = requests.get(URL)\n",
    "  soup = BeautifulSoup(page.content, \"html.parser\")\n",
    "\n",
    "  searches = soup.find_all(\"div\", {\"class\": \"panel-body lead\"})\n",
    "  for search in searches:\n",
    "    riddle = str(search).split('Riddle:</strong>')[1].split('<div class=\"visible-print print_answer\">')[0].strip()\n",
    "    ans = str(search).split('Answer</strong>:')[1].split('</div>')[0].strip()\n",
    "    whatami_riddles.append(riddle)\n",
    "    whatami_answers.append(ans)\n",
    "whatami_riddles = [re.sub(r'<.*?>', '', riddle) for riddle in whatami_riddles]\n",
    "whatami_riddles = [re.sub(r'[\\r\\n]', '', riddle) for riddle in whatami_riddles]\n",
    "whatami_answers = [re.sub(r'<.*?>', '', answer) for answer in whatami_answers]"
   ]
  },
  {
   "cell_type": "code",
   "execution_count": 61,
   "metadata": {},
   "outputs": [],
   "source": [
    "whatisit_riddles = []\n",
    "whatisit_answers = []\n",
    "for i in range(1,36):\n",
    "  URL = \"https://www.riddles.com/what-is-it-riddles?page=\"+str(i)\n",
    "  page = requests.get(URL)\n",
    "  soup = BeautifulSoup(page.content, \"html.parser\")\n",
    "\n",
    "  searches = soup.find_all(\"div\", {\"class\": \"panel-body lead\"})\n",
    "  for search in searches:\n",
    "    riddle = str(search).split('Riddle:</strong>')[1].split('<div class=\"visible-print print_answer\">')[0].strip()\n",
    "    ans = str(search).split('Answer</strong>:')[1].split('</div>')[0].strip()\n",
    "    whatisit_riddles.append(riddle)\n",
    "    whatisit_answers.append(ans)\n",
    "whatisit_riddles = [re.sub(r'<.*?>', '', riddle) for riddle in whatisit_riddles]\n",
    "whatisit_riddles = [re.sub(r'[\\r\\n]', '', riddle) for riddle in whatisit_riddles]\n",
    "whatisit_answers = [re.sub(r'<.*?>', '', answer) for answer in whatisit_answers]"
   ]
  },
  {
   "cell_type": "code",
   "execution_count": 62,
   "metadata": {},
   "outputs": [],
   "source": [
    "whoami_riddles = []\n",
    "whoami_answers = []\n",
    "for i in range(1,3):\n",
    "  URL = \"https://www.riddles.com/who-am-i-riddles?page=\"+str(i)\n",
    "  page = requests.get(URL)\n",
    "  soup = BeautifulSoup(page.content, \"html.parser\")\n",
    "\n",
    "  searches = soup.find_all(\"div\", {\"class\": \"panel-body lead\"})\n",
    "  for search in searches:\n",
    "    riddle = str(search).split('Riddle:</strong>')[1].split('<div class=\"visible-print print_answer\">')[0].strip()\n",
    "    ans = str(search).split('Answer</strong>:')[1].split('</div>')[0].strip()\n",
    "    whatisit_riddles.append(riddle)\n",
    "    whatisit_answers.append(ans)\n",
    "whoami_riddles = [re.sub(r'<.*?>', '', riddle) for riddle in whoami_riddles]\n",
    "whoami_riddles = [re.sub(r'[\\r\\n]', '', riddle) for riddle in whoami_riddles]\n",
    "whoami_answers = [re.sub(r'<.*?>', '', answer) for answer in whoami_answers]"
   ]
  },
  {
   "cell_type": "code",
   "execution_count": 63,
   "metadata": {},
   "outputs": [],
   "source": [
    "whoisit_riddles = []\n",
    "whoisit_answers = []\n",
    "for i in range(1,4):\n",
    "  URL = \"https://www.riddles.com/who-is-it-riddles?page=\"+str(i)\n",
    "  page = requests.get(URL)\n",
    "  soup = BeautifulSoup(page.content, \"html.parser\")\n",
    "\n",
    "  searches = soup.find_all(\"div\", {\"class\": \"panel-body lead\"})\n",
    "  for search in searches:\n",
    "    riddle = str(search).split('Riddle:</strong>')[1].split('<div class=\"visible-print print_answer\">')[0].strip()\n",
    "    ans = str(search).split('Answer</strong>:')[1].split('</div>')[0].strip()\n",
    "    whatisit_riddles.append(riddle)\n",
    "    whatisit_answers.append(ans)\n",
    "whoisit_riddles = [re.sub(r'<.*?>', '', riddle) for riddle in whoisit_riddles]\n",
    "whoisit_riddles = [re.sub(r'[\\r\\n]', '', riddle) for riddle in whoisit_riddles]\n",
    "whoisit_answers = [re.sub(r'<.*?>', '', answer) for answer in whoisit_answers]"
   ]
  },
  {
   "cell_type": "code",
   "execution_count": 68,
   "metadata": {},
   "outputs": [],
   "source": [
    "rcom_riddles = []\n",
    "rcom_answers = []\n",
    "\n",
    "rcom_riddles.extend(whatami_riddles)\n",
    "rcom_answers.extend(whatami_answers)\n",
    "\n",
    "rcom_riddles.extend(whatisit_riddles)\n",
    "rcom_answers.extend(whatisit_answers)\n",
    "\n",
    "rcom_riddles.extend(whoami_riddles)\n",
    "rcom_answers.extend(whoami_answers)\n",
    "\n",
    "rcom_riddles.extend(whoisit_riddles)\n",
    "rcom_answers.extend(whoisit_answers)\n"
   ]
  },
  {
   "cell_type": "code",
   "execution_count": 71,
   "metadata": {},
   "outputs": [
    {
     "name": "stdout",
     "output_type": "stream",
     "text": [
      "What is it that is full all day and empty at night? Shoes.\n"
     ]
    }
   ],
   "source": [
    "ti = 1200\n",
    "print(rcom_riddles[ti],rcom_answers[ti])"
   ]
  },
  {
   "cell_type": "markdown",
   "metadata": {},
   "source": [
    "## Unifying all the datasets"
   ]
  },
  {
   "cell_type": "code",
   "execution_count": 14,
   "metadata": {},
   "outputs": [],
   "source": [
    "final_riddles = []\n",
    "final_answers = []"
   ]
  },
  {
   "cell_type": "code",
   "execution_count": 72,
   "metadata": {},
   "outputs": [
    {
     "data": {
      "text/plain": [
       "(6613, 4531, 408, 1355)"
      ]
     },
     "execution_count": 72,
     "metadata": {},
     "output_type": "execute_result"
    }
   ],
   "source": [
    "len(birdqa_riddles), len(rs_riddles), len(reddit_riddles), len(rcom_riddles)"
   ]
  },
  {
   "cell_type": "code",
   "execution_count": 73,
   "metadata": {},
   "outputs": [],
   "source": [
    "final_riddles.extend(birdqa_riddles)\n",
    "final_answers.extend(birdqa_answers)\n",
    "\n",
    "final_riddles.extend(rs_riddles)\n",
    "final_answers.extend(rs_answers)\n",
    "\n",
    "final_riddles.extend(reddit_riddles)\n",
    "final_answers.extend(reddit_answers)\n",
    "\n",
    "final_riddles.extend(rcom_riddles)\n",
    "final_answers.extend(rcom_answers)"
   ]
  },
  {
   "cell_type": "code",
   "execution_count": 83,
   "metadata": {},
   "outputs": [],
   "source": [
    "fs_riddles = []\n",
    "fs_answers = []\n",
    "fs_class = []"
   ]
  },
  {
   "cell_type": "code",
   "execution_count": 84,
   "metadata": {},
   "outputs": [],
   "source": [
    "for riddle, ans in zip(final_riddles, final_answers):\n",
    "    if re.search('what am i', riddle, re.IGNORECASE):\n",
    "        fs_class.append('what am i')\n",
    "        fs_riddles.append(riddle)\n",
    "        fs_answers.append(ans)\n",
    "    if re.search('what is it', riddle, re.IGNORECASE):\n",
    "        fs_class.append('what is it')\n",
    "        fs_riddles.append(riddle)\n",
    "        fs_answers.append(ans)\n",
    "    if re.search('who am i', riddle, re.IGNORECASE):\n",
    "        fs_class.append('who am i')\n",
    "        fs_riddles.append(riddle)\n",
    "        fs_answers.append(ans)\n",
    "    if re.search('who is it', riddle, re.IGNORECASE):\n",
    "        fs_class.append('who is it')\n",
    "        fs_riddles.append(riddle)\n",
    "        fs_answers.append(ans)"
   ]
  },
  {
   "cell_type": "code",
   "execution_count": 85,
   "metadata": {},
   "outputs": [
    {
     "data": {
      "text/plain": [
       "(4838, 4838)"
      ]
     },
     "execution_count": 85,
     "metadata": {},
     "output_type": "execute_result"
    }
   ],
   "source": [
    "len(fs_riddles), len(fs_answers)"
   ]
  },
  {
   "cell_type": "code",
   "execution_count": 82,
   "metadata": {},
   "outputs": [
    {
     "name": "stdout",
     "output_type": "stream",
     "text": [
      "I can bring power, money, connections, repute, and admiration, but I'm useless in the face of love and friendship. Treat others with me, and you'll avoid heartbreak, but you'll also gain endless loneliness. What am I? Disguise.\n"
     ]
    }
   ],
   "source": [
    "ti = 4500\n",
    "print(fs_riddles[ti],fs_answers[ti])"
   ]
  },
  {
   "cell_type": "code",
   "execution_count": 95,
   "metadata": {},
   "outputs": [],
   "source": [
    "fs_riddles = [re.sub(r'<.*?>', '', riddle) for riddle in fs_riddles]\n",
    "fs_answers = [re.sub(r'<.*?>', '', ans) for ans in fs_answers]"
   ]
  },
  {
   "cell_type": "code",
   "execution_count": 96,
   "metadata": {},
   "outputs": [],
   "source": [
    "# dictionary of lists\n",
    "dict = {'starter': fs_answers, 'riddle': fs_riddles, 'class': fs_class}"
   ]
  },
  {
   "cell_type": "code",
   "execution_count": 97,
   "metadata": {},
   "outputs": [],
   "source": [
    "df = pd.DataFrame(dict)\n",
    "     \n",
    "# saving the dataframe\n",
    "df.to_csv('rmt_combined.csv',index=False)"
   ]
  },
  {
   "cell_type": "code",
   "execution_count": 98,
   "metadata": {},
   "outputs": [],
   "source": [
    "df = pd.read_csv('rmt_combined.csv'\n",
    ")"
   ]
  },
  {
   "cell_type": "code",
   "execution_count": 99,
   "metadata": {},
   "outputs": [
    {
     "data": {
      "text/plain": [
       "(4683, 3)"
      ]
     },
     "execution_count": 99,
     "metadata": {},
     "output_type": "execute_result"
    }
   ],
   "source": [
    "df.shape"
   ]
  },
  {
   "cell_type": "code",
   "execution_count": null,
   "metadata": {},
   "outputs": [],
   "source": []
  }
 ],
 "metadata": {
  "kernelspec": {
   "display_name": "riddle",
   "language": "python",
   "name": "python3"
  },
  "language_info": {
   "codemirror_mode": {
    "name": "ipython",
    "version": 3
   },
   "file_extension": ".py",
   "mimetype": "text/x-python",
   "name": "python",
   "nbconvert_exporter": "python",
   "pygments_lexer": "ipython3",
   "version": "3.12.0"
  }
 },
 "nbformat": 4,
 "nbformat_minor": 2
}
