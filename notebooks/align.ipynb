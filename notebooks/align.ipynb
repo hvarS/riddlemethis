{
 "cells": [
  {
   "cell_type": "code",
   "execution_count": 1,
   "metadata": {},
   "outputs": [],
   "source": [
    "import pandas as pd"
   ]
  },
  {
   "cell_type": "code",
   "execution_count": 2,
   "metadata": {},
   "outputs": [],
   "source": [
    "r_cp = pd.read_csv('generations/rmt_test_w_concepts.csv')\n",
    "r = pd.read_csv('generations/rmt_test.csv')"
   ]
  },
  {
   "cell_type": "code",
   "execution_count": 4,
   "metadata": {},
   "outputs": [
    {
     "data": {
      "text/plain": [
       "(Index(['starter', 'riddle', 'class'], dtype='object'),\n",
       " Index(['Unnamed: 0', 'word', 'BFSConcepts', 'DFSConcepts', 'PQConcepts',\n",
       "        'Riddle', 'Class'],\n",
       "       dtype='object'))"
      ]
     },
     "execution_count": 4,
     "metadata": {},
     "output_type": "execute_result"
    }
   ],
   "source": [
    "r.columns, r_cp.columns"
   ]
  },
  {
   "cell_type": "code",
   "execution_count": 5,
   "metadata": {},
   "outputs": [],
   "source": [
    "actual = {\n",
    "    'Word':list(r_cp['word']),\n",
    "    'BFSConcepts':list(r_cp['BFSConcepts']),\n",
    "    'DFSConcepts':list(r_cp['DFSConcepts']),\n",
    "    'PQConcepts':list(r_cp['PQConcepts']),\n",
    "    'Riddle':list(r['riddle']),\n",
    "    'Class':list(r['class'])\n",
    "}"
   ]
  },
  {
   "cell_type": "code",
   "execution_count": 6,
   "metadata": {},
   "outputs": [],
   "source": [
    "pd.DataFrame.from_dict(actual).to_csv('rmt_test_final.csv',index=False)"
   ]
  },
  {
   "cell_type": "code",
   "execution_count": null,
   "metadata": {},
   "outputs": [],
   "source": []
  }
 ],
 "metadata": {
  "kernelspec": {
   "display_name": "riddle",
   "language": "python",
   "name": "python3"
  },
  "language_info": {
   "codemirror_mode": {
    "name": "ipython",
    "version": 3
   },
   "file_extension": ".py",
   "mimetype": "text/x-python",
   "name": "python",
   "nbconvert_exporter": "python",
   "pygments_lexer": "ipython3",
   "version": "3.12.0"
  }
 },
 "nbformat": 4,
 "nbformat_minor": 2
}
