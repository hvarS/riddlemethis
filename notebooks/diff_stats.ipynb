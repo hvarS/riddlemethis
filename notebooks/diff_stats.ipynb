{
 "cells": [
  {
   "cell_type": "code",
   "execution_count": null,
   "metadata": {},
   "outputs": [],
   "source": [
    "import pandas as pd\n",
    "from difflib import SequenceMatcher\n",
    "\n",
    "# Sample DataFrame (replace this with your actual DataFrame)\n",
    "\n",
    "df = pd.read_csv('generations/gpt-turbo-instruct-simile.csv')\n",
    "\n",
    "# Function to calculate the similarity ratio using SequenceMatcher\n",
    "def similarity_ratio(text1, text2):\n",
    "    return SequenceMatcher(None, text1, text2).ratio()\n",
    "\n",
    "# Calculate statistics\n",
    "df['TextLength_GenRiddle'] = df['GenRiddle'].apply(len)\n",
    "df['TextLength_mFLAG'] = df['mFLAG'].apply(len)\n",
    "\n",
    "df['WordCount_GenRiddle'] = df['GenRiddle'].apply(lambda x: len(x.split()))\n",
    "df['WordCount_mFLAG'] = df['mFLAG'].apply(lambda x: len(x.split()))\n",
    "\n",
    "df['CharDiff'] = df.apply(lambda row: abs(row['TextLength_GenRiddle'] - row['TextLength_mFLAG']), axis=1)\n",
    "df['WordDiff'] = df.apply(lambda row: abs(row['WordCount_GenRiddle'] - row['WordCount_mFLAG']), axis=1)\n",
    "\n",
    "df['SimilarityRatio'] = df.apply(lambda row: similarity_ratio(row['GenRiddle'], row['mFLAG']), axis=1)\n",
    "\n",
    "# Display statistics\n",
    "statistics = df.describe()\n",
    "print(statistics)\n"
   ]
  }
 ],
 "metadata": {
  "language_info": {
   "name": "python"
  }
 },
 "nbformat": 4,
 "nbformat_minor": 2
}
