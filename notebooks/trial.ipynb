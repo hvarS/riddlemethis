{
 "cells": [
  {
   "cell_type": "code",
   "execution_count": 11,
   "metadata": {},
   "outputs": [],
   "source": [
    "import pandas as pd\n",
    "import csv"
   ]
  },
  {
   "cell_type": "code",
   "execution_count": 14,
   "metadata": {},
   "outputs": [],
   "source": [
    "f = open('generations/rmt_test.csv', 'r')\n",
    "starters_comp = open('test_riddle_words','w')"
   ]
  },
  {
   "cell_type": "code",
   "execution_count": 18,
   "metadata": {},
   "outputs": [],
   "source": [
    "for i,line in enumerate(f):\n",
    "    if i!= 0:\n",
    "        word = line.split(',')[1]\n",
    "        l = str(i)+','+word+'\\n'\n",
    "        starters_comp.write(l)\n"
   ]
  },
  {
   "cell_type": "code",
   "execution_count": 34,
   "metadata": {},
   "outputs": [],
   "source": [
    "gens = []\n",
    "refs = []\n",
    "starters = []\n",
    "f = open('generations/flanT5_finetuned.csv', 'r')\n",
    "for i,line in enumerate(f):\n",
    "    if i!= 0:\n",
    "        try:\n",
    "            starter, gen, ref = line.split(\"\\\\t\\\\t\")\n",
    "            starters.append(starter)\n",
    "            gens.append(gen)\n",
    "            refs.append(ref)\n",
    "        except:\n",
    "            pass"
   ]
  },
  {
   "cell_type": "code",
   "execution_count": 35,
   "metadata": {},
   "outputs": [],
   "source": [
    "dc = {'starters':starters,'generated_riddles':gens,'reference_riddles':refs}\n",
    "pd.DataFrame.from_dict(dc).to_csv('generations/flanT5_finetuned_pd.csv',index=False)"
   ]
  },
  {
   "cell_type": "code",
   "execution_count": 14,
   "metadata": {},
   "outputs": [
    {
     "data": {
      "text/html": [
       "<div>\n",
       "<style scoped>\n",
       "    .dataframe tbody tr th:only-of-type {\n",
       "        vertical-align: middle;\n",
       "    }\n",
       "\n",
       "    .dataframe tbody tr th {\n",
       "        vertical-align: top;\n",
       "    }\n",
       "\n",
       "    .dataframe thead th {\n",
       "        text-align: right;\n",
       "    }\n",
       "</style>\n",
       "<table border=\"1\" class=\"dataframe\">\n",
       "  <thead>\n",
       "    <tr style=\"text-align: right;\">\n",
       "      <th></th>\n",
       "      <th>starter\\t\\tgenerated_riddle\\t\\treference_riddle</th>\n",
       "    </tr>\n",
       "  </thead>\n",
       "  <tbody>\n",
       "    <tr>\n",
       "      <th>0</th>\n",
       "      <td>Headache or Heartache.\\t\\tI\\'m not visible, bu...</td>\n",
       "    </tr>\n",
       "    <tr>\n",
       "      <th>1</th>\n",
       "      <td>I am Blood.\\t\\tnI flow through your veins, a l...</td>\n",
       "    </tr>\n",
       "    <tr>\n",
       "      <th>2</th>\n",
       "      <td>hope\\t\\tWhen all seems lost, I\\'m what you fin...</td>\n",
       "    </tr>\n",
       "    <tr>\n",
       "      <th>3</th>\n",
       "      <td>ego\\t\\tIn your mind, I often reside,\\nSometime...</td>\n",
       "    </tr>\n",
       "    <tr>\n",
       "      <th>4</th>\n",
       "      <td>water\\t\\tI\\'m clear and essential, a life\\'s p...</td>\n",
       "    </tr>\n",
       "  </tbody>\n",
       "</table>\n",
       "</div>"
      ],
      "text/plain": [
       "     starter\\t\\tgenerated_riddle\\t\\treference_riddle\n",
       "0  Headache or Heartache.\\t\\tI\\'m not visible, bu...\n",
       "1  I am Blood.\\t\\tnI flow through your veins, a l...\n",
       "2  hope\\t\\tWhen all seems lost, I\\'m what you fin...\n",
       "3  ego\\t\\tIn your mind, I often reside,\\nSometime...\n",
       "4  water\\t\\tI\\'m clear and essential, a life\\'s p..."
      ]
     },
     "execution_count": 14,
     "metadata": {},
     "output_type": "execute_result"
    }
   ],
   "source": []
  },
  {
   "cell_type": "code",
   "execution_count": null,
   "metadata": {},
   "outputs": [],
   "source": []
  }
 ],
 "metadata": {
  "kernelspec": {
   "display_name": "riddle",
   "language": "python",
   "name": "python3"
  },
  "language_info": {
   "codemirror_mode": {
    "name": "ipython",
    "version": 3
   },
   "file_extension": ".py",
   "mimetype": "text/x-python",
   "name": "python",
   "nbconvert_exporter": "python",
   "pygments_lexer": "ipython3",
   "version": "3.12.0"
  }
 },
 "nbformat": 4,
 "nbformat_minor": 2
}
