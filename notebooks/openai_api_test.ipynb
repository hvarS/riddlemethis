{
 "cells": [
  {
   "cell_type": "code",
   "execution_count": 28,
   "metadata": {},
   "outputs": [],
   "source": [
    "import pandas as pd\n",
    "import pickle\n",
    "from tqdm import tqdm\n",
    "import time"
   ]
  },
  {
   "cell_type": "code",
   "execution_count": 21,
   "metadata": {},
   "outputs": [],
   "source": [
    "from openai import OpenAI\n",
    "client = OpenAI()"
   ]
  },
  {
   "cell_type": "code",
   "execution_count": 22,
   "metadata": {},
   "outputs": [],
   "source": [
    "r = pd.read_csv('../generations/rmt_test.csv')\n",
    "words = r['Word']\n",
    "bfs_concepts = r['BFSConcepts']\n",
    "pq_concepts = r['PQConcepts']"
   ]
  },
  {
   "cell_type": "code",
   "execution_count": 24,
   "metadata": {},
   "outputs": [],
   "source": [
    "openai_generations = []"
   ]
  },
  {
   "cell_type": "code",
   "execution_count": 29,
   "metadata": {},
   "outputs": [
    {
     "name": "stderr",
     "output_type": "stream",
     "text": [
      "100%|██████████| 100/100 [36:35<00:00, 21.95s/it]\n"
     ]
    }
   ],
   "source": [
    "for i in tqdm(range(3,103)):\n",
    "  word = words[i]\n",
    "  cp = pq_concepts[i]\n",
    "  msg = f\"Can you create a riddle for the word: {word} which touches upon these concepts: {cp[:4]} ?\"\n",
    "  completion = client.chat.completions.create(\n",
    "      model=\"gpt-3.5-turbo-1106\",\n",
    "      messages=[\n",
    "        {\"role\": \"user\", \"content\": msg}\n",
    "      ]\n",
    "  )\n",
    "  openai_generations.append(completion.choices[0].message.content)\n",
    "  time.sleep(20)"
   ]
  },
  {
   "cell_type": "code",
   "execution_count": 38,
   "metadata": {},
   "outputs": [],
   "source": [
    "openai_gen = {\n",
    "    \"Words\":words[:103],\n",
    "    \"PQConcepts\":pq_concepts[:103],\n",
    "    \"Generation\":openai_generations\n",
    "}"
   ]
  },
  {
   "cell_type": "code",
   "execution_count": 55,
   "metadata": {},
   "outputs": [
    {
     "name": "stderr",
     "output_type": "stream",
     "text": [
      "100%|██████████| 766/766 [00:00<00:00, 25713.60it/s]\n"
     ]
    }
   ],
   "source": [
    "prompts = []\n",
    "for i in tqdm(range(103,len(words))):\n",
    "  word = words[i]\n",
    "  cp = pq_concepts[i]\n",
    "  msg = f\"Can you create a riddle for the word: {word} which touches upon these concepts: {eval(cp)[:4]} ?\"\n",
    "  prompts.append(msg)"
   ]
  },
  {
   "cell_type": "code",
   "execution_count": 60,
   "metadata": {},
   "outputs": [
    {
     "name": "stderr",
     "output_type": "stream",
     "text": [
      "100%|██████████| 39/39 [16:22<00:00, 25.20s/it]\n"
     ]
    }
   ],
   "source": [
    "for i in tqdm(range(39)):\n",
    "      ip_prompts = prompts[20*i:20*(i+1)]\n",
    "      completion = client.completions.create(\n",
    "            model=\"gpt-3.5-turbo-instruct\",\n",
    "            prompt=ip_prompts,\n",
    "            max_tokens=128\n",
    "      )\n",
    "      for resp in completion.choices:\n",
    "            gen = resp.text\n",
    "            openai_generations.append(gen)\n",
    "      time.sleep(20)\n",
    "      "
   ]
  },
  {
   "cell_type": "code",
   "execution_count": 63,
   "metadata": {},
   "outputs": [],
   "source": [
    "openai_gen = {\n",
    "    \"Words\":words,\n",
    "    \"PQConcepts\":pq_concepts,\n",
    "    \"Generation\":openai_generations\n",
    "}"
   ]
  },
  {
   "cell_type": "code",
   "execution_count": 64,
   "metadata": {},
   "outputs": [],
   "source": [
    "pd.DataFrame.from_dict(openai_gen).to_csv('gpt-turbo-gen-pq.csv',index=False)"
   ]
  },
  {
   "cell_type": "code",
   "execution_count": null,
   "metadata": {},
   "outputs": [],
   "source": [
    "openai_generations.append(completion.choices[0].message.content)"
   ]
  }
 ],
 "metadata": {
  "kernelspec": {
   "display_name": "riddle",
   "language": "python",
   "name": "python3"
  },
  "language_info": {
   "codemirror_mode": {
    "name": "ipython",
    "version": 3
   },
   "file_extension": ".py",
   "mimetype": "text/x-python",
   "name": "python",
   "nbconvert_exporter": "python",
   "pygments_lexer": "ipython3",
   "version": "3.12.0"
  }
 },
 "nbformat": 4,
 "nbformat_minor": 2
}
