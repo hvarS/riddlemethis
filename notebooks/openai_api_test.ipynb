{
 "cells": [
  {
   "cell_type": "code",
   "execution_count": 1,
   "metadata": {},
   "outputs": [],
   "source": [
    "import pandas as pd\n",
    "import pickle\n",
    "from tqdm import tqdm\n",
    "import time"
   ]
  },
  {
   "cell_type": "code",
   "execution_count": 2,
   "metadata": {},
   "outputs": [],
   "source": [
    "from openai import OpenAI\n",
    "client = OpenAI()"
   ]
  },
  {
   "cell_type": "code",
   "execution_count": 19,
   "metadata": {},
   "outputs": [],
   "source": [
    "r = pd.read_csv('../data/rmt_test_concepts.csv')\n",
    "words = r['Word']\n",
    "riddles = r['Riddle']\n",
    "bfs_concepts = r['BFSConcepts']\n",
    "dfs_concepts = r['DFSConcepts']\n",
    "pq_concepts = r['PQConcepts']"
   ]
  },
  {
   "cell_type": "code",
   "execution_count": 24,
   "metadata": {},
   "outputs": [],
   "source": [
    "openai_generations = []"
   ]
  },
  {
   "cell_type": "code",
   "execution_count": 29,
   "metadata": {},
   "outputs": [
    {
     "name": "stderr",
     "output_type": "stream",
     "text": [
      "100%|██████████| 100/100 [36:35<00:00, 21.95s/it]\n"
     ]
    }
   ],
   "source": [
    "for i in tqdm(range(3,103)):\n",
    "  word = words[i]\n",
    "  cp = pq_concepts[i]\n",
    "  msg = f\"Can you create a riddle for the word: {word} which touches upon these concepts: {cp[:4]} ?\"\n",
    "  completion = client.chat.completions.create(\n",
    "      model=\"gpt-3.5-turbo-1106\",\n",
    "      messages=[\n",
    "        {\"role\": \"user\", \"content\": msg}\n",
    "      ]\n",
    "  )\n",
    "  openai_generations.append(completion.choices[0].message.content)\n",
    "  time.sleep(20)"
   ]
  },
  {
   "cell_type": "code",
   "execution_count": 22,
   "metadata": {},
   "outputs": [
    {
     "name": "stderr",
     "output_type": "stream",
     "text": [
      "  0%|          | 0/869 [00:00<?, ?it/s]"
     ]
    },
    {
     "name": "stderr",
     "output_type": "stream",
     "text": [
      "100%|██████████| 869/869 [00:00<00:00, 35596.33it/s]\n"
     ]
    }
   ],
   "source": [
    "prompts = []\n",
    "for i in tqdm(range(len(words))):\n",
    "  word = words[i]\n",
    "  cp = eval(dfs_concepts[i])\n",
    "  if len(cp)!=0:\n",
    "    msg = f\"Can you create a short riddle for the word: {word} which is based on following topics: {cp[:4]} ?\"\n",
    "  else:\n",
    "    msg = f\"Can you create a short riddle for the word: {word}?\"\n",
    "  prompts.append(msg)"
   ]
  },
  {
   "cell_type": "code",
   "execution_count": 23,
   "metadata": {},
   "outputs": [
    {
     "data": {
      "text/plain": [
       "['Can you create a short riddle for the word: Blood?',\n",
       " \"Can you create a short riddle for the word: hope which is based on following topics: ['wish', 'faith', 'belief'] ?\",\n",
       " 'Can you create a short riddle for the word: ego?',\n",
       " 'Can you create a short riddle for the word: water?',\n",
       " \"Can you create a short riddle for the word: dream which is based on following topics: ['you dream', 'sleep', 'close your eyes'] ?\",\n",
       " \"Can you create a short riddle for the word: cat which is based on following topics: ['my lap', 'a bed', 'hunt mice'] ?\",\n",
       " \"Can you create a short riddle for the word: cloud which is based on following topics: ['sky', 'the sky', 'white'] ?\",\n",
       " 'Can you create a short riddle for the word: paparazzi?',\n",
       " \"Can you create a short riddle for the word: dream which is based on following topics: ['you dream', 'sleep', 'close your eyes'] ?\",\n",
       " 'Can you create a short riddle for the word: wrestlemania?']"
      ]
     },
     "execution_count": 23,
     "metadata": {},
     "output_type": "execute_result"
    }
   ],
   "source": [
    "prompts[:10]"
   ]
  },
  {
   "cell_type": "code",
   "execution_count": 25,
   "metadata": {},
   "outputs": [
    {
     "name": "stderr",
     "output_type": "stream",
     "text": [
      "  0%|          | 0/44 [00:00<?, ?it/s]"
     ]
    },
    {
     "name": "stderr",
     "output_type": "stream",
     "text": [
      " 86%|████████▋ | 38/44 [13:37<02:10, 21.74s/it]"
     ]
    }
   ],
   "source": [
    "for i in tqdm(range(44)):\n",
    "      ip_prompts = prompts[20*i:20*(i+1)]\n",
    "      completion = client.completions.create(\n",
    "            model=\"gpt-3.5-turbo-instruct\",\n",
    "            prompt=ip_prompts,\n",
    "            max_tokens=128\n",
    "      )\n",
    "      for resp in completion.choices:\n",
    "            gen = resp.text\n",
    "            openai_generations.append(gen)\n",
    "      time.sleep(20)\n",
    "      "
   ]
  },
  {
   "cell_type": "code",
   "execution_count": null,
   "metadata": {},
   "outputs": [],
   "source": [
    "openai_gen = {\n",
    "    \"Words\":words,\n",
    "    \"DFSConcepts\":dfs_concepts,\n",
    "    \"GoldRiddle\": riddles,\n",
    "    \"GenRiddle\":openai_generations\n",
    "}"
   ]
  },
  {
   "cell_type": "code",
   "execution_count": null,
   "metadata": {},
   "outputs": [],
   "source": [
    "pd.DataFrame.from_dict(openai_gen).to_csv('gpt-turbo-gen-dfs.csv',index=False)"
   ]
  }
 ],
 "metadata": {
  "kernelspec": {
   "display_name": "riddle",
   "language": "python",
   "name": "python3"
  },
  "language_info": {
   "codemirror_mode": {
    "name": "ipython",
    "version": 3
   },
   "file_extension": ".py",
   "mimetype": "text/x-python",
   "name": "python",
   "nbconvert_exporter": "python",
   "pygments_lexer": "ipython3",
   "version": "3.10.13"
  }
 },
 "nbformat": 4,
 "nbformat_minor": 2
}
