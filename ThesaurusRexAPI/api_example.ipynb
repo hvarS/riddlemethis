{
 "cells": [
  {
   "cell_type": "code",
   "execution_count": 3,
   "metadata": {},
   "outputs": [],
   "source": [
    "from thesaurusrex import SingleResult, PairResult"
   ]
  },
  {
   "cell_type": "code",
   "execution_count": 4,
   "metadata": {},
   "outputs": [
    {
     "name": "stdout",
     "output_type": "stream",
     "text": [
      "--------------------\n",
      "Query: coffee\n",
      "--------------------\n",
      "Categories\n",
      "{'toxic:food': 86, 'granular:substance': 87, 'cool:drink': 88, 'stimulating:food': 89, 'clear:liquid': 89, 'everyday:drink': 90, 'everyday:beverage': 91, 'powdered:beverage': 92, 'popular:beverage': 92, 'tasty:beverage': 93, 'instant:beverage': 94, 'essential:item': 95, 'colored:drink': 100, 'fragrant:substance': 100, 'everyday:material': 101, 'addictive:substance': 105, 'liquid:food': 107, 'strong:food': 107, 'harmful:substance': 108, 'everyday:food': 108, 'exotic:food': 108, 'free:drink': 109, 'tropical:beverage': 115, 'dry:food': 116, 'cold:drink': 123, 'strong:smell': 123, 'tasty:comestible': 128, 'exotic:beverage': 131, 'acidic:material': 141, 'bitter:food': 142, 'basic:foodstuff': 149, 'common:substance': 152, 'common:beverage': 160, 'stimulating:substance': 165, 'clear:fluid': 167, 'basic:provisions': 190, 'basic:item': 190, 'common:food': 205, 'acidic:liquid': 218, 'strong:drink': 223, 'colored:beverage': 233, 'dark:drink': 246, 'colored:liquid': 251, 'strong:odor': 256, 'warm:liquid': 260, 'tropical:plant': 265, 'dark:beverage': 271, 'warm:beverage': 279, 'cold:beverage': 354, 'everyday:item': 361, 'warm:drink': 391, 'toxic:substance': 401, 'stimulating:beverage': 423, 'nonalcoholic:drink': 438, 'raw:material': 474, 'nonalcoholic:beverage': 481, 'dark:liquid': 512, 'stimulating:drink': 519, 'acidic:drink': 552, 'acidic:food': 600, 'hot:liquid': 731, 'hot:drink': 1239, 'acidic:beverage': 1272, 'hot:beverage': 1710}\n",
      "\n",
      "Modifiers\n",
      "{'aggressive': 1, 'finnish': 1, 'cheap': 1, 'bushy': 1, 'characteristic': 1, 'smaller': 1, 'cooperative': 1, 'sensory': 1, 'caloric': 1, 'adult': 1, 'complementary': 1, 'poor': 1, 'out': 1, 'smooth': 1, 'aversive': 2, 'useless': 2, 'strange': 2, 'italian': 2, 'continental': 2, 'extra': 2, 'dense': 2, 'animal': 2, 'hydrous': 2, 'stubborn': 3, 'baked': 3, 'irregular': 3, 'larger': 3, 'public': 3, 'multiple': 3, 'large': 3, 'neutral': 3, 'exempt': 3, 'activist': 3, 'domestic': 3, 'behavioural': 3, 'taboo': 3, 'unprocessed': 3, 'palatable': 3, 'incidental': 4, 'strategic': 4, 'damaging': 4, 'benign': 4, 'rationed': 4, 'non-greasy': 4, 'concentrated': 4, 'petty': 4, 'home': 4, 'steaming': 4, 'fried': 4, 'varied': 4, 'outside': 4, 'inconsequential': 5, 'active': 5, 'delicate': 5, 'minute': 5, 'homogenous': 5, 'color': 5, 'forgotten': 5, 'temporary': 5, 'unconventional': 5, 'critical': 6, 'restricted': 6, 'indoor': 6, 'main': 6, 'wrong': 6, 'manufactured': 6, 'restorative': 7, 'lighter': 7, 'durable': 7, 'savory': 7, 'sized': 7, 'minor': 7, 'digestive': 7, 'alternative': 7, 'inert': 7, 'viscous': 7, 'physical': 7, 'soluble': 7, 'interfering': 7, 'routine': 7, 'earthy': 7, 'bad': 8, 'additional': 8, 'little': 8, 'illegal': 8, 'brown': 8, 'mild': 8, 'innocuous': 8, 'limited': 9, 'dangerous': 9, 'old': 9, 'social': 9, 'regular': 9, 'nearby': 9, 'valuable': 10, 'granulated': 10, 'disposable': 10, 'interesting': 10, 'insignificant': 10, 'smelly': 10, 'real': 10, 'mixed': 11, 'concrete': 11, 'tangible': 12, 'refined': 12, 'specialized': 12, 'good': 12, 'useful': 12, 'promotional': 12, 'homemade': 13, 'mundane': 13, 'handy': 13, 'united': 13, 'southwestern': 13, 'leafy': 13, 'commonplace': 13, 'refrigerated': 13, 'expensive': 13, 'utilitarian': 14, 'watery': 14, 'moving': 14, 'native': 14, 'uncooked': 15, 'fast': 15, 'expendable': 15, 'personal': 15, 'potable': 15, 'rich': 15, 'subtropical': 16, 'key': 16, 'shared': 16, 'perennial': 16, 'poisonous': 16, 'similar': 16, 'sweetened': 16, 'american': 17, 'world': 17, 'leftover': 17, 'undivided': 17, 'botanical': 18, 'sundry': 19, 'welcoming': 19, 'european': 20, 'hazardous': 21, 'pleasurable': 21, 'diverse': 21, 'recreational': 23, 'allergenic': 24, 'noncarbonated': 24, 'african': 24, 'intoxicating': 25, 'narcotic': 26, 'solid': 27, 'inexpensive': 27, 'miscellaneous': 28, 'individual': 29, 'complimentary': 29, 'functional': 29, 'convenient': 30, 'nice': 30, 'dried': 31, 'medicinal': 31, 'distinctive': 32, 'necessary': 32, 'special': 32, 'wholesome': 33, 'spicy': 34, 'warming': 37, 'irritating': 38, 'semitropical': 38, 'conventional': 39, 'acid': 39, 'important': 39, 'offer': 39, 'perishable': 40, 'grown': 41, 'aqueous': 45, 'unusual': 46, 'favourite': 46, 'scented': 47, 'carbonated': 49, 'refreshing': 49, 'unsweetened': 51, 'single': 52, 'creamy': 52, 'alcoholic': 53, 'fine': 53, 'local': 53, 'psychoactive': 54, 'sugary': 56, 'legal': 56, 'agricultural': 56, 'unlimited': 57, 'western': 57, 'pleasant': 58, 'desirable': 58, 'base': 61, 'foreign': 61, 'fatty': 62, 'typical': 63, 'external': 65, 'delicious': 65, 'modern': 66, 'prepared': 67, 'dietary': 68, 'wonderful': 69, 'traditional': 69, 'consumable': 74, 'unhealthy': 74, 'economic': 77, 'costly': 77, 'standard': 78, 'fluid': 79, 'healthy': 79, 'industrial': 80, 'non-alcoholic': 81, 'up': 82, 'new': 82, 'sweet': 85, 'soft': 86, 'cool': 97, 'edible': 100, 'fragrant': 100, 'sensitive': 101, 'heated': 102, 'woody': 103, 'complex': 113, 'thin': 121, 'popular': 128, 'commercial': 132, 'organic': 136, 'coloured': 138, 'addictive': 142, 'small': 142, 'instant': 147, 'free': 148, 'aromatic': 148, 'light': 151, 'favorite': 155, 'particulate': 157, 'essential': 157, 'simple': 159, 'natural': 168, 'granular': 187, 'liquid': 188, 'dry': 195, 'harmful': 207, 'familiar': 216, 'clear': 256, 'tasty': 291, 'powdered': 299, 'exotic': 380, 'bitter': 427, 'raw': 474, 'cold': 536, 'tropical': 566, 'toxic': 604, 'basic': 631, 'colored': 696, 'common': 815, 'nonalcoholic': 919, 'everyday': 936, 'strong': 953, 'warm': 1030, 'dark': 1144, 'stimulating': 1267, 'acidic': 2909, 'hot': 3900}\n",
      "\n",
      "Category heads\n",
      "{'leaf': 1, 'opposition': 1, 'liquor': 3, 'shrub': 3, 'artefact': 3, 'quality': 3, 'seed': 3, 'portion': 3, 'lubricant': 4, 'cultivar': 4, 'group': 4, 'poison': 5, 'measure': 5, 'edible': 6, 'amount': 6, 'attribute': 9, 'host': 9, 'change': 10, 'token': 10, 'trivia': 11, 'substrate': 12, 'space': 13, 'person': 13, 'state': 14, 'intoxicant': 14, 'form': 15, 'shade': 16, 'location': 17, 'stuff': 19, 'bush': 19, 'grain': 19, 'world': 22, 'agent': 23, 'residue': 26, 'entity': 26, 'quantity': 31, 'solid': 32, 'drinkable': 33, 'level': 37, 'land': 41, 'system': 46, 'color': 47, 'mixture': 48, 'mixer': 52, 'perennial': 58, 'scent': 61, 'fruit': 61, 'property': 65, 'aroma': 71, 'herb': 74, 'odour': 84, 'medium': 94, 'component': 104, 'fare': 106, 'matter': 124, 'tree': 138, 'comestible': 142, 'object': 184, 'smell': 185, 'provisions': 194, 'odor': 329, 'thing': 394, 'foodstuff': 446, 'fluid': 512, 'plant': 764, 'material': 1255, 'item': 1622, 'substance': 2283, 'liquid': 2541, 'food': 3322, 'drink': 4983, 'beverage': 7056}\n"
     ]
    }
   ],
   "source": [
    "coffee = SingleResult(\"coffee\")\n",
    "print(\"--------------------\")\n",
    "print(\"Query: coffee\")\n",
    "print(\"--------------------\")\n",
    "print(\"Categories\")\n",
    "print(coffee.categories)\n",
    "print()\n",
    "print(\"Modifiers\")\n",
    "print(coffee.modifiers)\n",
    "print()\n",
    "print(\"Category heads\")\n",
    "print(coffee.category_heads)"
   ]
  },
  {
   "cell_type": "code",
   "execution_count": 5,
   "metadata": {},
   "outputs": [
    {
     "name": "stdout",
     "output_type": "stream",
     "text": [
      "--------------------\n",
      "Query: coffee & tobacco\n",
      "--------------------\n",
      "Categories\n"
     ]
    },
    {
     "ename": "AttributeError",
     "evalue": "'PairResult' object has no attribute 'categories'",
     "output_type": "error",
     "traceback": [
      "\u001b[0;31m---------------------------------------------------------------------------\u001b[0m",
      "\u001b[0;31mAttributeError\u001b[0m                            Traceback (most recent call last)",
      "\u001b[1;32m/Users/harsh/Work/GenSumm/ThesaurusRexAPI/trial.ipynb Cell 3\u001b[0m line \u001b[0;36m7\n\u001b[1;32m      <a href='vscode-notebook-cell:/Users/harsh/Work/GenSumm/ThesaurusRexAPI/trial.ipynb#W2sZmlsZQ%3D%3D?line=4'>5</a>\u001b[0m \u001b[39mprint\u001b[39m(\u001b[39m\"\u001b[39m\u001b[39m--------------------\u001b[39m\u001b[39m\"\u001b[39m)\n\u001b[1;32m      <a href='vscode-notebook-cell:/Users/harsh/Work/GenSumm/ThesaurusRexAPI/trial.ipynb#W2sZmlsZQ%3D%3D?line=5'>6</a>\u001b[0m \u001b[39mprint\u001b[39m(\u001b[39m\"\u001b[39m\u001b[39mCategories\u001b[39m\u001b[39m\"\u001b[39m)\n\u001b[0;32m----> <a href='vscode-notebook-cell:/Users/harsh/Work/GenSumm/ThesaurusRexAPI/trial.ipynb#W2sZmlsZQ%3D%3D?line=6'>7</a>\u001b[0m \u001b[39mprint\u001b[39m(coffee_tobacco\u001b[39m.\u001b[39;49mcategories)\n\u001b[1;32m      <a href='vscode-notebook-cell:/Users/harsh/Work/GenSumm/ThesaurusRexAPI/trial.ipynb#W2sZmlsZQ%3D%3D?line=7'>8</a>\u001b[0m \u001b[39mprint\u001b[39m()\n\u001b[1;32m      <a href='vscode-notebook-cell:/Users/harsh/Work/GenSumm/ThesaurusRexAPI/trial.ipynb#W2sZmlsZQ%3D%3D?line=8'>9</a>\u001b[0m \u001b[39mprint\u001b[39m(\u001b[39m\"\u001b[39m\u001b[39mCloud 1\u001b[39m\u001b[39m\"\u001b[39m)\n",
      "\u001b[0;31mAttributeError\u001b[0m: 'PairResult' object has no attribute 'categories'"
     ]
    }
   ],
   "source": [
    "coffee_tobacco = PairResult(\"coffee\",\"tobacco\")\n",
    "\n",
    "print(\"--------------------\")\n",
    "print(\"Query: coffee & tobacco\")\n",
    "print(\"--------------------\")\n",
    "print(\"Categories\")\n",
    "print(coffee_tobacco.categories)\n",
    "print()\n",
    "print(\"Cloud 1\")\n",
    "print(coffee_tobacco.cloud1)\n",
    "print()\n",
    "print(\"Cloud 2\")\n",
    "print(coffee_tobacco.cloud2)\n",
    "print()"
   ]
  },
  {
   "cell_type": "code",
   "execution_count": 10,
   "metadata": {},
   "outputs": [
    {
     "data": {
      "text/plain": [
       "{'toxic:material': 870,\n",
       " 'small:object': 161,\n",
       " 'poisonous:herb': 34,\n",
       " 'hazardous:agent': 21,\n",
       " 'valuable:plant': 87,\n",
       " 'illegal:item': 113,\n",
       " 'single:substance': 344,\n",
       " 'leafy:material': 127,\n",
       " 'taboo:substance': 82,\n",
       " 'minor:item': 106,\n",
       " 'american:entity': 21,\n",
       " 'diverse:plant': 126,\n",
       " 'special:plant': 156,\n",
       " 'american:plant': 113,\n",
       " 'large:item': 69,\n",
       " 'familiar:plant': 406,\n",
       " 'miscellaneous:item': 213,\n",
       " 'world:material': 146,\n",
       " 'strange:substance': 67,\n",
       " 'traditional:material': 294,\n",
       " 'illegal:material': 100,\n",
       " 'hazardous:substance': 218,\n",
       " 'miscellaneous:plant': 146,\n",
       " 'dangerous:thing': 59,\n",
       " 'sensitive:plant': 277,\n",
       " 'damaging:substance': 95,\n",
       " 'useful:thing': 68,\n",
       " 'botanical:plant': 117,\n",
       " 'personal:measure': 8,\n",
       " 'important:host': 18,\n",
       " 'narcotic:poison': 11,\n",
       " 'native:plant': 103,\n",
       " 'diverse:item': 184,\n",
       " 'prepared:material': 289,\n",
       " 'small:thing': 236,\n",
       " 'main:group': 4,\n",
       " 'harmful:object': 195,\n",
       " 'dry:substrate': 48,\n",
       " 'recreational:item': 193,\n",
       " 'toxic:agent': 117,\n",
       " 'new:plant': 250,\n",
       " 'hot:substance': 2983,\n",
       " 'delicate:material': 79,\n",
       " 'unhealthy:thing': 170,\n",
       " 'conventional:plant': 172,\n",
       " 'dangerous:item': 120,\n",
       " 'alternative:substance': 126,\n",
       " 'legal:agent': 35,\n",
       " 'rich:plant': 107,\n",
       " 'hot:poison': 139,\n",
       " 'offer:substance': 298,\n",
       " 'traditional:plant': 229,\n",
       " 'large:material': 61,\n",
       " 'natural:token': 40,\n",
       " 'common:poison': 63,\n",
       " 'recreational:poison': 10,\n",
       " 'fine:material': 257,\n",
       " 'leafy:plant': 99,\n",
       " 'healthy:item': 357,\n",
       " 'organic:substance': 557,\n",
       " 'world:plant': 113,\n",
       " 'social:group': 6,\n",
       " 'dangerous:substance': 143,\n",
       " 'consumable:material': 304,\n",
       " 'harmful:item': 579,\n",
       " 'useful:material': 122,\n",
       " 'common:intoxicant': 106,\n",
       " 'cheap:substance': 47,\n",
       " 'harmful:thing': 285,\n",
       " 'individual:substance': 257,\n",
       " 'harmful:material': 509,\n",
       " 'common:thing': 566,\n",
       " 'traditional:herb': 71,\n",
       " 'industrial:group': 17,\n",
       " 'useful:object': 46,\n",
       " 'legal:item': 301,\n",
       " 'damaging:agent': 9,\n",
       " 'free:item': 489,\n",
       " 'simple:change': 39,\n",
       " 'american:material': 146,\n",
       " 'disposable:item': 127,\n",
       " 'rich:food': 223,\n",
       " 'recreational:agent': 23,\n",
       " 'hazardous:material': 162,\n",
       " 'dangerous:plant': 82,\n",
       " 'botanical:material': 150,\n",
       " 'recreational:plant': 132}"
      ]
     },
     "execution_count": 10,
     "metadata": {},
     "output_type": "execute_result"
    }
   ],
   "source": [
    "coffee_tobacco.cloud1"
   ]
  },
  {
   "cell_type": "code",
   "execution_count": null,
   "metadata": {},
   "outputs": [],
   "source": []
  }
 ],
 "metadata": {
  "kernelspec": {
   "display_name": "Python 3",
   "language": "python",
   "name": "python3"
  },
  "language_info": {
   "codemirror_mode": {
    "name": "ipython",
    "version": 3
   },
   "file_extension": ".py",
   "mimetype": "text/x-python",
   "name": "python",
   "nbconvert_exporter": "python",
   "pygments_lexer": "ipython3",
   "version": "3.12.0"
  }
 },
 "nbformat": 4,
 "nbformat_minor": 2
}
